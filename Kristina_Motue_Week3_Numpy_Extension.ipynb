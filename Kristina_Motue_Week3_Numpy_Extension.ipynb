{
 "cells": [
  {
   "cell_type": "code",
   "execution_count": 1,
   "metadata": {},
   "outputs": [],
   "source": [
    "import numpy as np"
   ]
  },
  {
   "cell_type": "code",
   "execution_count": 2,
   "metadata": {},
   "outputs": [
    {
     "name": "stdout",
     "output_type": "stream",
     "text": [
      "[1 2 3 4 5]\n",
      "[4 5 6 7 8 9]\n",
      "[1 2 3 4 5]\n",
      "[6 7 8 9]\n",
      "[3 4 5] [6 7]\n",
      "12\n",
      "13\n",
      "25\n"
     ]
    }
   ],
   "source": [
    "a = np.array([1,2,3,4,5])\n",
    "b = np.array([4,5,6,7,8,9])\n",
    "print(a)\n",
    "print(b)\n",
    "B = np.delete(b,[0,1])\n",
    "print(a)\n",
    "print(B)\n",
    "c = a[2: ]\n",
    "d = B[ :2]\n",
    "print(c, d)\n",
    "e = np.sum(c)\n",
    "print(e)\n",
    "f = np.sum(d)\n",
    "print(f)\n",
    "print(e + f)"
   ]
  },
  {
   "cell_type": "code",
   "execution_count": 9,
   "metadata": {},
   "outputs": [
    {
     "name": "stdout",
     "output_type": "stream",
     "text": [
      "[1 1 1 2 2 2 3 3 3 1 2 3 1 2 3 1 2 3]\n"
     ]
    }
   ],
   "source": [
    "a = np.array([1,1,1])\n",
    "b = np.array([2,2,2])\n",
    "c = np.array([3,3,3])\n",
    "d = np.array([1,2,3])\n",
    "e = np.concatenate((a,b,c,d,d,d),axis=0)\n",
    "print(e)\n"
   ]
  },
  {
   "cell_type": "code",
   "execution_count": null,
   "metadata": {},
   "outputs": [],
   "source": []
  }
 ],
 "metadata": {
  "kernelspec": {
   "display_name": "Python 3",
   "language": "python",
   "name": "python3"
  },
  "language_info": {
   "codemirror_mode": {
    "name": "ipython",
    "version": 3
   },
   "file_extension": ".py",
   "mimetype": "text/x-python",
   "name": "python",
   "nbconvert_exporter": "python",
   "pygments_lexer": "ipython3",
   "version": "3.8.5"
  }
 },
 "nbformat": 4,
 "nbformat_minor": 4
}

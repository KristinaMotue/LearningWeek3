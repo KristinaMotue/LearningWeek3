{
 "cells": [
  {
   "cell_type": "code",
   "execution_count": 2,
   "metadata": {},
   "outputs": [
    {
     "name": "stdin",
     "output_type": "stream",
     "text": [
      "Hello, what is the percentage of your exam? 86\n",
      "What is your target grade? 8\n"
     ]
    },
    {
     "name": "stdout",
     "output_type": "stream",
     "text": [
      "You did better than you expected. Your grade is 9.\n"
     ]
    }
   ],
   "source": [
    "def mark_grade(exam):\n",
    "    if exam >= 79:\n",
    "        grade = 9 \n",
    "    if exam < 79 and exam >= 65:\n",
    "        grade = 8\n",
    "    if exam < 65 and exam >= 52:\n",
    "        grade = 7\n",
    "    if exam < 52 and exam >= 41:\n",
    "        grade = 6\n",
    "    if exam < 40:\n",
    "        grade = 5\n",
    "        \n",
    "    return grade\n",
    "\n",
    "exam = int(input(\"Hello, what is the percentage of your exam?\"))\n",
    "target = int(input(\"What is your target grade?\"))\n",
    "message = mark_grade(exam)\n",
    "def procedure(target):\n",
    "    if target == mark_grade(exam):\n",
    "        print(\"Your grade is as expected:\", str(message) + \".\")\n",
    "    if target > mark_grade(exam):\n",
    "        print(\"Your grade is\", str(message) + \",next time work harder.\")\n",
    "    if target < mark_grade(exam):\n",
    "        print(\"You did better than you expected. Your grade is\", str(message) + \".\")\n",
    "        \n",
    "mark_grade(exam)\n",
    "procedure(target)\n"
   ]
  },
  {
   "cell_type": "code",
   "execution_count": null,
   "metadata": {},
   "outputs": [],
   "source": []
  }
 ],
 "metadata": {
  "kernelspec": {
   "display_name": "Python 3",
   "language": "python",
   "name": "python3"
  },
  "language_info": {
   "codemirror_mode": {
    "name": "ipython",
    "version": 3
   },
   "file_extension": ".py",
   "mimetype": "text/x-python",
   "name": "python",
   "nbconvert_exporter": "python",
   "pygments_lexer": "ipython3",
   "version": "3.8.5"
  }
 },
 "nbformat": 4,
 "nbformat_minor": 4
}
